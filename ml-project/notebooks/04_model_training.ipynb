{
 "cells": [
  {
   "cell_type": "markdown",
   "metadata": {},
   "source": [
    "# 모델 훈련 및 실험 추적\n",
    "\n",
    "이 노트북에서는 여러 머신러닝 모델을 훈련하고 MLflow를 사용하여 실험을 추적합니다.\n",
    "\n",
    "## 목표\n",
    "- 다양한 ML 알고리즘 비교\n",
    "- 하이퍼파라미터 최적화\n",
    "- 실험 추적 및 모델 버전 관리\n",
    "- 최적 모델 선택"
   ]
  },
  {
   "cell_type": "code",
   "execution_count": 1,
   "metadata": {},
   "outputs": [
    {
     "ename": "ImportError",
     "evalue": "C extension: pandas.util not built. If you want to import pandas from the source directory, you may need to run 'python setup.py build_ext' to build the C extensions first.",
     "output_type": "error",
     "traceback": [
      "\u001b[1;31m---------------------------------------------------------------------------\u001b[0m",
      "\u001b[1;31mModuleNotFoundError\u001b[0m                       Traceback (most recent call last)",
      "File \u001b[1;32mc:\\workClaude3\\ml-project\\ml-env\\lib\\site-packages\\pandas\\__init__.py:38\u001b[0m\n\u001b[0;32m     36\u001b[0m \u001b[38;5;28;01mtry\u001b[39;00m:\n\u001b[0;32m     37\u001b[0m     \u001b[38;5;66;03m# numpy compat\u001b[39;00m\n\u001b[1;32m---> 38\u001b[0m     \u001b[38;5;28;01mfrom\u001b[39;00m\u001b[38;5;250m \u001b[39m\u001b[38;5;21;01mpandas\u001b[39;00m\u001b[38;5;21;01m.\u001b[39;00m\u001b[38;5;21;01mcompat\u001b[39;00m\u001b[38;5;250m \u001b[39m\u001b[38;5;28;01mimport\u001b[39;00m (\n\u001b[0;32m     39\u001b[0m         is_numpy_dev \u001b[38;5;28;01mas\u001b[39;00m _is_numpy_dev,  \u001b[38;5;66;03m# pyright: ignore[reportUnusedImport] # noqa: F401\u001b[39;00m\n\u001b[0;32m     40\u001b[0m     )\n\u001b[0;32m     41\u001b[0m \u001b[38;5;28;01mexcept\u001b[39;00m \u001b[38;5;167;01mImportError\u001b[39;00m \u001b[38;5;28;01mas\u001b[39;00m _err:  \u001b[38;5;66;03m# pragma: no cover\u001b[39;00m\n",
      "File \u001b[1;32mc:\\workClaude3\\ml-project\\ml-env\\lib\\site-packages\\pandas\\compat\\__init__.py:26\u001b[0m\n\u001b[0;32m     25\u001b[0m \u001b[38;5;28;01mimport\u001b[39;00m\u001b[38;5;250m \u001b[39m\u001b[38;5;21;01mpandas\u001b[39;00m\u001b[38;5;21;01m.\u001b[39;00m\u001b[38;5;21;01mcompat\u001b[39;00m\u001b[38;5;21;01m.\u001b[39;00m\u001b[38;5;21;01mcompressors\u001b[39;00m\n\u001b[1;32m---> 26\u001b[0m \u001b[38;5;28;01mfrom\u001b[39;00m\u001b[38;5;250m \u001b[39m\u001b[38;5;21;01mpandas\u001b[39;00m\u001b[38;5;21;01m.\u001b[39;00m\u001b[38;5;21;01mcompat\u001b[39;00m\u001b[38;5;21;01m.\u001b[39;00m\u001b[38;5;21;01mnumpy\u001b[39;00m\u001b[38;5;250m \u001b[39m\u001b[38;5;28;01mimport\u001b[39;00m is_numpy_dev\n\u001b[0;32m     27\u001b[0m \u001b[38;5;28;01mfrom\u001b[39;00m\u001b[38;5;250m \u001b[39m\u001b[38;5;21;01mpandas\u001b[39;00m\u001b[38;5;21;01m.\u001b[39;00m\u001b[38;5;21;01mcompat\u001b[39;00m\u001b[38;5;21;01m.\u001b[39;00m\u001b[38;5;21;01mpyarrow\u001b[39;00m\u001b[38;5;250m \u001b[39m\u001b[38;5;28;01mimport\u001b[39;00m (\n\u001b[0;32m     28\u001b[0m     HAS_PYARROW,\n\u001b[0;32m     29\u001b[0m     pa_version_under10p1,\n\u001b[1;32m   (...)\u001b[0m\n\u001b[0;32m     39\u001b[0m     pa_version_under21p0,\n\u001b[0;32m     40\u001b[0m )\n",
      "File \u001b[1;32mc:\\workClaude3\\ml-project\\ml-env\\lib\\site-packages\\pandas\\compat\\numpy\\__init__.py:6\u001b[0m\n\u001b[0;32m      4\u001b[0m \u001b[38;5;28;01mimport\u001b[39;00m\u001b[38;5;250m \u001b[39m\u001b[38;5;21;01mnumpy\u001b[39;00m\u001b[38;5;250m \u001b[39m\u001b[38;5;28;01mas\u001b[39;00m\u001b[38;5;250m \u001b[39m\u001b[38;5;21;01mnp\u001b[39;00m\n\u001b[1;32m----> 6\u001b[0m \u001b[38;5;28;01mfrom\u001b[39;00m\u001b[38;5;250m \u001b[39m\u001b[38;5;21;01mpandas\u001b[39;00m\u001b[38;5;21;01m.\u001b[39;00m\u001b[38;5;21;01mutil\u001b[39;00m\u001b[38;5;21;01m.\u001b[39;00m\u001b[38;5;21;01mversion\u001b[39;00m\u001b[38;5;250m \u001b[39m\u001b[38;5;28;01mimport\u001b[39;00m Version\n\u001b[0;32m      8\u001b[0m \u001b[38;5;66;03m# numpy versioning\u001b[39;00m\n",
      "\u001b[1;31mModuleNotFoundError\u001b[0m: No module named 'pandas.util'",
      "\nThe above exception was the direct cause of the following exception:\n",
      "\u001b[1;31mImportError\u001b[0m                               Traceback (most recent call last)",
      "Cell \u001b[1;32mIn[1], line 5\u001b[0m\n\u001b[0;32m      2\u001b[0m \u001b[38;5;28;01mimport\u001b[39;00m\u001b[38;5;250m \u001b[39m\u001b[38;5;21;01mos\u001b[39;00m\n\u001b[0;32m      3\u001b[0m sys\u001b[38;5;241m.\u001b[39mpath\u001b[38;5;241m.\u001b[39mappend(\u001b[38;5;124m'\u001b[39m\u001b[38;5;124m..\u001b[39m\u001b[38;5;124m'\u001b[39m)\n\u001b[1;32m----> 5\u001b[0m \u001b[38;5;28;01mimport\u001b[39;00m\u001b[38;5;250m \u001b[39m\u001b[38;5;21;01mpandas\u001b[39;00m\u001b[38;5;250m \u001b[39m\u001b[38;5;28;01mas\u001b[39;00m\u001b[38;5;250m \u001b[39m\u001b[38;5;21;01mpd\u001b[39;00m\n\u001b[0;32m      6\u001b[0m \u001b[38;5;28;01mimport\u001b[39;00m\u001b[38;5;250m \u001b[39m\u001b[38;5;21;01mnumpy\u001b[39;00m\u001b[38;5;250m \u001b[39m\u001b[38;5;28;01mas\u001b[39;00m\u001b[38;5;250m \u001b[39m\u001b[38;5;21;01mnp\u001b[39;00m\n\u001b[0;32m      7\u001b[0m \u001b[38;5;28;01mimport\u001b[39;00m\u001b[38;5;250m \u001b[39m\u001b[38;5;21;01mmatplotlib\u001b[39;00m\u001b[38;5;21;01m.\u001b[39;00m\u001b[38;5;21;01mpyplot\u001b[39;00m\u001b[38;5;250m \u001b[39m\u001b[38;5;28;01mas\u001b[39;00m\u001b[38;5;250m \u001b[39m\u001b[38;5;21;01mplt\u001b[39;00m\n",
      "File \u001b[1;32mc:\\workClaude3\\ml-project\\ml-env\\lib\\site-packages\\pandas\\__init__.py:43\u001b[0m\n\u001b[0;32m     41\u001b[0m \u001b[38;5;28;01mexcept\u001b[39;00m \u001b[38;5;167;01mImportError\u001b[39;00m \u001b[38;5;28;01mas\u001b[39;00m _err:  \u001b[38;5;66;03m# pragma: no cover\u001b[39;00m\n\u001b[0;32m     42\u001b[0m     _module \u001b[38;5;241m=\u001b[39m _err\u001b[38;5;241m.\u001b[39mname\n\u001b[1;32m---> 43\u001b[0m     \u001b[38;5;28;01mraise\u001b[39;00m \u001b[38;5;167;01mImportError\u001b[39;00m(\n\u001b[0;32m     44\u001b[0m         \u001b[38;5;124mf\u001b[39m\u001b[38;5;124m\"\u001b[39m\u001b[38;5;124mC extension: \u001b[39m\u001b[38;5;132;01m{\u001b[39;00m_module\u001b[38;5;132;01m}\u001b[39;00m\u001b[38;5;124m not built. If you want to import \u001b[39m\u001b[38;5;124m\"\u001b[39m\n\u001b[0;32m     45\u001b[0m         \u001b[38;5;124m\"\u001b[39m\u001b[38;5;124mpandas from the source directory, you may need to run \u001b[39m\u001b[38;5;124m\"\u001b[39m\n\u001b[0;32m     46\u001b[0m         \u001b[38;5;124m\"\u001b[39m\u001b[38;5;124m'\u001b[39m\u001b[38;5;124mpython setup.py build_ext\u001b[39m\u001b[38;5;124m'\u001b[39m\u001b[38;5;124m to build the C extensions first.\u001b[39m\u001b[38;5;124m\"\u001b[39m\n\u001b[0;32m     47\u001b[0m     ) \u001b[38;5;28;01mfrom\u001b[39;00m\u001b[38;5;250m \u001b[39m\u001b[38;5;21;01m_err\u001b[39;00m\n\u001b[0;32m     49\u001b[0m \u001b[38;5;28;01mfrom\u001b[39;00m\u001b[38;5;250m \u001b[39m\u001b[38;5;21;01mpandas\u001b[39;00m\u001b[38;5;21;01m.\u001b[39;00m\u001b[38;5;21;01m_config\u001b[39;00m\u001b[38;5;250m \u001b[39m\u001b[38;5;28;01mimport\u001b[39;00m (\n\u001b[0;32m     50\u001b[0m     get_option,\n\u001b[0;32m     51\u001b[0m     set_option,\n\u001b[1;32m   (...)\u001b[0m\n\u001b[0;32m     55\u001b[0m     options,\n\u001b[0;32m     56\u001b[0m )\n\u001b[0;32m     58\u001b[0m \u001b[38;5;66;03m# let init-time option registration happen\u001b[39;00m\n",
      "\u001b[1;31mImportError\u001b[0m: C extension: pandas.util not built. If you want to import pandas from the source directory, you may need to run 'python setup.py build_ext' to build the C extensions first."
     ]
    }
   ],
   "source": [
    "import sys\n",
    "import os\n",
    "sys.path.append('..')\n",
    "\n",
    "import pandas as pd\n",
    "import numpy as np\n",
    "import matplotlib.pyplot as plt\n",
    "import seaborn as sns\n",
    "from sklearn.datasets import load_iris\n",
    "from sklearn.preprocessing import StandardScaler\n",
    "from sklearn.model_selection import train_test_split\n",
    "from sklearn.metrics import classification_report, confusion_matrix\n",
    "import mlflow\n",
    "import mlflow.sklearn\n",
    "import warnings\n",
    "warnings.filterwarnings('ignore')\n",
    "\n",
    "# 프로젝트 모듈 임포트\n",
    "from src.models.trainer import ModelTrainer\n",
    "from src.utils.experiment_tracker import ExperimentTracker\n",
    "from src.utils.config import config\n",
    "\n",
    "print(\"✅ 라이브러리 및 모듈 임포트 완료\")"
   ]
  },
  {
   "cell_type": "markdown",
   "metadata": {},
   "source": [
    "## 1. 데이터 준비"
   ]
  },
  {
   "cell_type": "code",
   "execution_count": null,
   "metadata": {},
   "outputs": [],
   "source": [
    "# 데이터 로드 (실제 프로젝트에서는 전처리된 데이터 사용)\n",
    "data = load_iris()\n",
    "X = pd.DataFrame(data.data, columns=data.feature_names)\n",
    "y = pd.Series(data.target)\n",
    "\n",
    "print(f\"특성 데이터 형태: {X.shape}\")\n",
    "print(f\"타겟 데이터 형태: {y.shape}\")\n",
    "print(f\"클래스: {data.target_names}\")"
   ]
  },
  {
   "cell_type": "code",
   "execution_count": null,
   "metadata": {},
   "outputs": [],
   "source": [
    "# 데이터 분할\n",
    "trainer = ModelTrainer()\n",
    "X_train, X_test, y_train, y_test = trainer.prepare_data(X, y)\n",
    "\n",
    "print(f\"훈련 데이터: {X_train.shape}\")\n",
    "print(f\"테스트 데이터: {X_test.shape}\")\n",
    "print(f\"클래스 분포 (훈련): {y_train.value_counts().sort_index().tolist()}\")\n",
    "print(f\"클래스 분포 (테스트): {y_test.value_counts().sort_index().tolist()}\")"
   ]
  },
  {
   "cell_type": "code",
   "execution_count": null,
   "metadata": {},
   "outputs": [],
   "source": [
    "# 특성 스케일링\n",
    "scaler = StandardScaler()\n",
    "X_train_scaled = pd.DataFrame(\n",
    "    scaler.fit_transform(X_train), \n",
    "    columns=X_train.columns, \n",
    "    index=X_train.index\n",
    ")\n",
    "X_test_scaled = pd.DataFrame(\n",
    "    scaler.transform(X_test), \n",
    "    columns=X_test.columns, \n",
    "    index=X_test.index\n",
    ")\n",
    "\n",
    "print(\"✅ 특성 스케일링 완료\")\n",
    "print(f\"스케일링 후 특성 통계:\")\n",
    "print(X_train_scaled.describe().round(3))"
   ]
  },
  {
   "cell_type": "markdown",
   "metadata": {},
   "source": [
    "## 2. 실험 추적 설정"
   ]
  },
  {
   "cell_type": "code",
   "execution_count": null,
   "metadata": {},
   "outputs": [],
   "source": [
    "# MLflow 설정\n",
    "experiment_tracker = ExperimentTracker(use_mlflow=True, use_wandb=False)\n",
    "\n",
    "# 실험 정보 확인\n",
    "print(f\"MLflow tracking URI: {mlflow.get_tracking_uri()}\")\n",
    "print(f\"현재 실험: {mlflow.get_experiment_by_name('ml_project_experiments')}\")"
   ]
  },
  {
   "cell_type": "markdown",
   "metadata": {},
   "source": [
    "## 3. 개별 모델 훈련"
   ]
  },
  {
   "cell_type": "code",
   "execution_count": null,
   "metadata": {},
   "outputs": [],
   "source": [
    "# Random Forest 모델 훈련\n",
    "rf_results = trainer.train_model(\n",
    "    algorithm='random_forest',\n",
    "    X_train=X_train_scaled, \n",
    "    y_train=y_train,\n",
    "    X_test=X_test_scaled, \n",
    "    y_test=y_test,\n",
    "    optimize=True\n",
    ")\n",
    "\n",
    "print(f\"\\n🌲 Random Forest 결과:\")\n",
    "print(f\"최적 파라미터: {rf_results['best_params']}\")\n",
    "print(f\"테스트 정확도: {rf_results['test_metrics']['test_accuracy']:.4f}\")"
   ]
  },
  {
   "cell_type": "code",
   "execution_count": null,
   "metadata": {},
   "outputs": [],
   "source": [
    "# XGBoost 모델 훈련\n",
    "xgb_results = trainer.train_model(\n",
    "    algorithm='xgboost',\n",
    "    X_train=X_train_scaled, \n",
    "    y_train=y_train,\n",
    "    X_test=X_test_scaled, \n",
    "    y_test=y_test,\n",
    "    optimize=True\n",
    ")\n",
    "\n",
    "print(f\"\\n🚀 XGBoost 결과:\")\n",
    "print(f\"최적 파라미터: {xgb_results['best_params']}\")\n",
    "print(f\"테스트 정확도: {xgb_results['test_metrics']['test_accuracy']:.4f}\")"
   ]
  },
  {
   "cell_type": "markdown",
   "metadata": {},
   "source": [
    "## 4. 모든 모델 비교 훈련"
   ]
  },
  {
   "cell_type": "code",
   "execution_count": null,
   "metadata": {},
   "outputs": [],
   "source": [
    "# 모든 설정된 모델 훈련\n",
    "all_results = trainer.train_all_models(\n",
    "    X_train=X_train_scaled, \n",
    "    y_train=y_train,\n",
    "    X_test=X_test_scaled, \n",
    "    y_test=y_test,\n",
    "    optimize=True\n",
    ")\n",
    "\n",
    "print(\"\\n=== 모든 모델 훈련 완료 ===\")\n",
    "print(f\"훈련된 모델 수: {len(all_results)}\")"
   ]
  },
  {
   "cell_type": "markdown",
   "metadata": {},
   "source": [
    "## 5. 결과 비교 및 시각화"
   ]
  },
  {
   "cell_type": "code",
   "execution_count": null,
   "metadata": {},
   "outputs": [],
   "source": [
    "# 모델 성능 비교 테이블\n",
    "comparison_data = []\n",
    "\n",
    "for algorithm, results in all_results.items():\n",
    "    test_metrics = results['test_metrics']\n",
    "    comparison_data.append({\n",
    "        'Algorithm': algorithm,\n",
    "        'Accuracy': test_metrics['test_accuracy'],\n",
    "        'Precision': test_metrics['test_precision'],\n",
    "        'Recall': test_metrics['test_recall'],\n",
    "        'F1-Score': test_metrics['test_f1']\n",
    "    })\n",
    "\n",
    "comparison_df = pd.DataFrame(comparison_data)\n",
    "comparison_df = comparison_df.sort_values('Accuracy', ascending=False)\n",
    "\n",
    "print(\"=== 모델 성능 비교 ===\")\n",
    "display(comparison_df.round(4))"
   ]
  },
  {
   "cell_type": "code",
   "execution_count": null,
   "metadata": {},
   "outputs": [],
   "source": [
    "# 성능 지표 시각화\n",
    "metrics = ['Accuracy', 'Precision', 'Recall', 'F1-Score']\n",
    "n_metrics = len(metrics)\n",
    "\n",
    "fig, axes = plt.subplots(2, 2, figsize=(15, 10))\n",
    "axes = axes.flatten()\n",
    "\n",
    "for i, metric in enumerate(metrics):\n",
    "    ax = axes[i]\n",
    "    bars = ax.bar(comparison_df['Algorithm'], comparison_df[metric], \n",
    "                  color=['#ff9999', '#66b3ff', '#99ff99', '#ffcc99'][:len(comparison_df)])\n",
    "    \n",
    "    ax.set_title(f'{metric} 비교', fontsize=14, fontweight='bold')\n",
    "    ax.set_ylabel(metric, fontsize=12)\n",
    "    ax.set_ylim(0, 1)\n",
    "    \n",
    "    # 값 라벨 추가\n",
    "    for bar, value in zip(bars, comparison_df[metric]):\n",
    "        ax.text(bar.get_x() + bar.get_width()/2, bar.get_height() + 0.01, \n",
    "                f'{value:.3f}', ha='center', va='bottom', fontweight='bold')\n",
    "    \n",
    "    ax.tick_params(axis='x', rotation=45)\n",
    "\n",
    "plt.tight_layout()\n",
    "plt.show()"
   ]
  },
  {
   "cell_type": "code",
   "execution_count": null,
   "metadata": {},
   "outputs": [],
   "source": [
    "# 레이더 차트로 모델 성능 비교\n",
    "from math import pi\n",
    "\n",
    "# 레이더 차트 데이터 준비\n",
    "categories = ['Accuracy', 'Precision', 'Recall', 'F1-Score']\n",
    "N = len(categories)\n",
    "\n",
    "# 각도 계산\n",
    "angles = [n / float(N) * 2 * pi for n in range(N)]\n",
    "angles += angles[:1]  # 원을 닫기 위해\n",
    "\n",
    "fig, ax = plt.subplots(figsize=(10, 10), subplot_kw=dict(projection='polar'))\n",
    "\n",
    "colors = ['red', 'blue', 'green', 'orange']\n",
    "for i, (algorithm, results) in enumerate(all_results.items()):\n",
    "    values = [\n",
    "        results['test_metrics']['test_accuracy'],\n",
    "        results['test_metrics']['test_precision'],\n",
    "        results['test_metrics']['test_recall'],\n",
    "        results['test_metrics']['test_f1']\n",
    "    ]\n",
    "    values += values[:1]  # 원을 닫기 위해\n",
    "    \n",
    "    ax.plot(angles, values, 'o-', linewidth=2, label=algorithm, color=colors[i])\n",
    "    ax.fill(angles, values, alpha=0.25, color=colors[i])\n",
    "\n",
    "ax.set_xticks(angles[:-1])\n",
    "ax.set_xticklabels(categories)\n",
    "ax.set_ylim(0, 1)\n",
    "ax.set_title('모델 성능 레이더 차트', size=16, fontweight='bold', pad=20)\n",
    "ax.legend(loc='upper right', bbox_to_anchor=(1.3, 1.0))\n",
    "ax.grid(True)\n",
    "\n",
    "plt.tight_layout()\n",
    "plt.show()"
   ]
  },
  {
   "cell_type": "markdown",
   "metadata": {},
   "source": [
    "## 6. 최적 모델 분석"
   ]
  },
  {
   "cell_type": "code",
   "execution_count": null,
   "metadata": {},
   "outputs": [],
   "source": [
    "# 최적 모델 확인\n",
    "best_model = trainer.get_best_model()\n",
    "best_algorithm = comparison_df.iloc[0]['Algorithm']\n",
    "best_results = all_results[best_algorithm]\n",
    "\n",
    "print(f\"🏆 최적 모델: {best_algorithm}\")\n",
    "print(f\"📊 테스트 정확도: {best_results['test_metrics']['test_accuracy']:.4f}\")\n",
    "print(f\"⚙️ 최적 파라미터: {best_results['best_params']}\")"
   ]
  },
  {
   "cell_type": "code",
   "execution_count": null,
   "metadata": {},
   "outputs": [],
   "source": [
    "# 최적 모델의 예측 결과 분석\n",
    "y_pred = best_model.predict(X_test_scaled)\n",
    "\n",
    "# 분류 보고서\n",
    "print(\"=== 분류 보고서 ===\")\n",
    "print(classification_report(y_test, y_pred, target_names=data.target_names))\n",
    "\n",
    "# 혼동 행렬\n",
    "cm = confusion_matrix(y_test, y_pred)\n",
    "\n",
    "plt.figure(figsize=(8, 6))\n",
    "sns.heatmap(cm, annot=True, fmt='d', cmap='Blues', \n",
    "            xticklabels=data.target_names, \n",
    "            yticklabels=data.target_names)\n",
    "plt.title(f'{best_algorithm} - 혼동 행렬')\n",
    "plt.ylabel('실제 클래스')\n",
    "plt.xlabel('예측 클래스')\n",
    "plt.tight_layout()\n",
    "plt.show()"
   ]
  },
  {
   "cell_type": "code",
   "execution_count": null,
   "metadata": {},
   "outputs": [],
   "source": [
    "# 특성 중요도 (가능한 경우)\n",
    "if hasattr(best_model, 'feature_importances_'):\n",
    "    importance_df = pd.DataFrame({\n",
    "        'feature': X_train.columns,\n",
    "        'importance': best_model.feature_importances_\n",
    "    }).sort_values('importance', ascending=False)\n",
    "    \n",
    "    plt.figure(figsize=(10, 6))\n",
    "    sns.barplot(data=importance_df, x='importance', y='feature', palette='viridis')\n",
    "    plt.title(f'{best_algorithm} - 특성 중요도')\n",
    "    plt.xlabel('중요도')\n",
    "    plt.ylabel('특성')\n",
    "    plt.tight_layout()\n",
    "    plt.show()\n",
    "    \n",
    "    print(\"=== 특성 중요도 순위 ===\")\n",
    "    for idx, row in importance_df.iterrows():\n",
    "        print(f\"{row['feature']}: {row['importance']:.4f}\")\n",
    "else:\n",
    "    print(\"선택된 모델은 특성 중요도를 제공하지 않습니다.\")"
   ]
  },
  {
   "cell_type": "markdown",
   "metadata": {},
   "source": [
    "## 7. 실험 결과 저장"
   ]
  },
  {
   "cell_type": "code",
   "execution_count": null,
   "metadata": {},
   "outputs": [],
   "source": [
    "# 훈련 결과 저장\n",
    "trainer.save_results(all_results, 'experiments/training_results.json')\n",
    "\n",
    "# 모델 비교 결과 저장\n",
    "comparison_df.to_csv('experiments/model_comparison.csv', index=False)\n",
    "\n",
    "print(\"✅ 실험 결과 저장 완료\")\n",
    "print(\"📁 저장 위치:\")\n",
    "print(\"   - experiments/training_results.json\")\n",
    "print(\"   - experiments/model_comparison.csv\")\n",
    "print(\"   - models/ (각 모델의 .joblib 파일)\")"
   ]
  },
  {
   "cell_type": "markdown",
   "metadata": {},
   "source": [
    "## 8. MLflow UI 확인"
   ]
  },
  {
   "cell_type": "code",
   "execution_count": null,
   "metadata": {},
   "outputs": [],
   "source": [
    "print(\"=== MLflow 실험 추적 ===\")\n",
    "print(\"실험 결과를 확인하려면 터미널에서 다음 명령어를 실행하세요:\")\n",
    "print(\"\")\n",
    "print(\"cd ml-project\")\n",
    "print(\"mlflow ui\")\n",
    "print(\"\")\n",
    "print(\"그 후 브라우저에서 http://localhost:5000 으로 접속하세요.\")\n",
    "print(\"\")\n",
    "print(\"MLflow UI에서 확인할 수 있는 정보:\")\n",
    "print(\"- 📊 각 실험의 파라미터와 메트릭\")\n",
    "print(\"- 📈 메트릭 비교 차트\")\n",
    "print(\"- 🔧 모델 아티팩트\")\n",
    "print(\"- 📝 실험 노트\")"
   ]
  },
  {
   "cell_type": "markdown",
   "metadata": {},
   "source": [
    "## 9. 요약 및 다음 단계"
   ]
  },
  {
   "cell_type": "code",
   "execution_count": null,
   "metadata": {},
   "outputs": [],
   "source": [
    "print(\"=== 모델 훈련 요약 ===\")\n",
    "print(f\"🎯 훈련된 모델 수: {len(all_results)}\")\n",
    "print(f\"🏆 최고 성능 모델: {best_algorithm}\")\n",
    "print(f\"📊 최고 정확도: {comparison_df.iloc[0]['Accuracy']:.4f}\")\n",
    "print(f\"🔧 하이퍼파라미터 최적화: ✅ 완료\")\n",
    "print(f\"📈 실험 추적: ✅ MLflow 기록\")\n",
    "\n",
    "print(\"\\n=== 다음 단계 권장사항 ===\")\n",
    "print(\"1. 🔍 모델 해석 및 설명가능성 분석\")\n",
    "print(\"2. 🧪 교차 검증으로 모델 안정성 검증\")\n",
    "print(\"3. 🚀 모델 배포 준비\")\n",
    "print(\"4. 📊 A/B 테스트 설계\")\n",
    "print(\"5. 🔄 모델 모니터링 시스템 구축\")\n",
    "\n",
    "print(\"\\n=== 성능 개선 아이디어 ===\")\n",
    "print(\"- 🔧 더 많은 하이퍼파라미터 조합 시도\")\n",
    "print(\"- 🎯 앙상블 모델 구성\")\n",
    "print(\"- 📊 더 많은 특성 엔지니어링\")\n",
    "print(\"- 🔄 교차 검증 전략 개선\")\n",
    "print(\"- 📈 다른 평가 지표 고려\")"
   ]
  }
 ],
 "metadata": {
  "kernelspec": {
   "display_name": "Python 3",
   "language": "python",
   "name": "python3"
  },
  "language_info": {
   "codemirror_mode": {
    "name": "ipython",
    "version": 3
   },
   "file_extension": ".py",
   "mimetype": "text/x-python",
   "name": "python",
   "nbconvert_exporter": "python",
   "pygments_lexer": "ipython3",
   "version": "3.10.9"
  }
 },
 "nbformat": 4,
 "nbformat_minor": 4
}
