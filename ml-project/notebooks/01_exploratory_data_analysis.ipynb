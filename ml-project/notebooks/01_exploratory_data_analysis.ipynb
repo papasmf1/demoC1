{
 "cells": [
  {
   "cell_type": "markdown",
   "metadata": {},
   "source": [
    "# 탐색적 데이터 분석 (Exploratory Data Analysis)\n",
    "\n",
    "이 노트북에서는 데이터를 탐색하고 이해하는 과정을 수행합니다.\n",
    "\n",
    "## 목표\n",
    "- 데이터의 구조와 특성 파악\n",
    "- 결측값 및 이상치 분석\n",
    "- 변수 간의 상관관계 분석\n",
    "- 시각화를 통한 패턴 발견"
   ]
  },
  {
   "cell_type": "code",
   "execution_count": null,
   "metadata": {},
   "outputs": [
    {
     "ename": "",
     "evalue": "",
     "output_type": "error",
     "traceback": [
      "\u001b[1;31m'Python'(으)로 셀을 실행하려면 ipykernel 패키지가 필요합니다.\n",
      "\u001b[1;31m필요한 패키지를 사용하여 <a href='command:jupyter.createPythonEnvAndSelectController'>Python 환경 만들기</a>\n",
      "\u001b[1;31m또는 다음 명령을 사용하여 'ipykernel'을(를) 설치합니다. 'c:/workClaude3/ml-project/ml-env/Scripts/python.exe -m pip install ipykernel -U --user --force-reinstall'"
     ]
    }
   ],
   "source": [
    "# 필요한 라이브러리 임포트\n",
    "import pandas as pd\n",
    "import numpy as np\n",
    "import matplotlib.pyplot as plt\n",
    "import seaborn as sns\n",
    "import plotly.express as px\n",
    "import plotly.graph_objects as go\n",
    "from plotly.subplots import make_subplots\n",
    "import warnings\n",
    "warnings.filterwarnings('ignore')\n",
    "\n",
    "# 설정\n",
    "plt.style.use('seaborn-v0_8')\n",
    "sns.set_palette(\"Set2\")\n",
    "pd.set_option('display.max_columns', None)\n",
    "\n",
    "print(\"✅ 라이브러리 임포트 완료\")"
   ]
  },
  {
   "cell_type": "markdown",
   "metadata": {},
   "source": [
    "## 1. 데이터 로드 및 기본 정보"
   ]
  },
  {
   "cell_type": "code",
   "execution_count": null,
   "metadata": {},
   "outputs": [],
   "source": [
    "# 샘플 데이터 생성 (실제 프로젝트에서는 데이터 로드)\n",
    "from sklearn.datasets import load_iris, load_wine, load_breast_cancer\n",
    "\n",
    "# 예시: Iris 데이터셋 사용\n",
    "data = load_iris()\n",
    "df = pd.DataFrame(data.data, columns=data.feature_names)\n",
    "df['target'] = data.target\n",
    "df['target_name'] = df['target'].map({i: name for i, name in enumerate(data.target_names)})\n",
    "\n",
    "print(f\"데이터 형태: {df.shape}\")\n",
    "print(f\"특성 수: {len(df.columns)-2}\")\n",
    "print(f\"클래스 수: {df['target'].nunique()}\")"
   ]
  },
  {
   "cell_type": "code",
   "execution_count": null,
   "metadata": {},
   "outputs": [],
   "source": [
    "# 데이터 미리보기\n",
    "print(\"=== 데이터 미리보기 ===\")\n",
    "display(df.head(10))\n",
    "\n",
    "print(\"\\n=== 데이터 타입 ===\")\n",
    "display(df.dtypes)\n",
    "\n",
    "print(\"\\n=== 기본 통계 ===\")\n",
    "display(df.describe())"
   ]
  },
  {
   "cell_type": "markdown",
   "metadata": {},
   "source": [
    "## 2. 데이터 품질 분석"
   ]
  },
  {
   "cell_type": "code",
   "execution_count": null,
   "metadata": {},
   "outputs": [],
   "source": [
    "# 결측값 분석\n",
    "missing_data = df.isnull().sum()\n",
    "missing_percentage = (missing_data / len(df)) * 100\n",
    "\n",
    "missing_df = pd.DataFrame({\n",
    "    '결측값 개수': missing_data,\n",
    "    '결측값 비율(%)': missing_percentage\n",
    "})\n",
    "\n",
    "print(\"=== 결측값 분석 ===\")\n",
    "display(missing_df[missing_df['결측값 개수'] > 0])\n",
    "\n",
    "if missing_df['결측값 개수'].sum() == 0:\n",
    "    print(\"✅ 결측값이 없습니다.\")"
   ]
  },
  {
   "cell_type": "code",
   "execution_count": null,
   "metadata": {},
   "outputs": [],
   "source": [
    "# 중복값 분석\n",
    "duplicate_count = df.duplicated().sum()\n",
    "print(f\"중복 행 수: {duplicate_count}\")\n",
    "\n",
    "if duplicate_count > 0:\n",
    "    print(\"\\n중복된 행:\")\n",
    "    display(df[df.duplicated()])\n",
    "else:\n",
    "    print(\"✅ 중복된 행이 없습니다.\")"
   ]
  },
  {
   "cell_type": "markdown",
   "metadata": {},
   "source": [
    "## 3. 타겟 변수 분석"
   ]
  },
  {
   "cell_type": "code",
   "execution_count": null,
   "metadata": {},
   "outputs": [],
   "source": [
    "# 타겟 변수 분포\n",
    "target_counts = df['target_name'].value_counts()\n",
    "target_percentages = df['target_name'].value_counts(normalize=True) * 100\n",
    "\n",
    "print(\"=== 타겟 변수 분포 ===\")\n",
    "for class_name, count in target_counts.items():\n",
    "    percentage = target_percentages[class_name]\n",
    "    print(f\"{class_name}: {count}개 ({percentage:.1f}%)\")\n",
    "\n",
    "# 시각화\n",
    "fig, axes = plt.subplots(1, 2, figsize=(15, 5))\n",
    "\n",
    "# 막대 그래프\n",
    "target_counts.plot(kind='bar', ax=axes[0], color='skyblue')\n",
    "axes[0].set_title('타겟 변수 분포')\n",
    "axes[0].set_xlabel('클래스')\n",
    "axes[0].set_ylabel('개수')\n",
    "axes[0].tick_params(axis='x', rotation=45)\n",
    "\n",
    "# 파이 차트\n",
    "axes[1].pie(target_counts.values, labels=target_counts.index, autopct='%1.1f%%')\n",
    "axes[1].set_title('타겟 변수 비율')\n",
    "\n",
    "plt.tight_layout()\n",
    "plt.show()"
   ]
  },
  {
   "cell_type": "markdown",
   "metadata": {},
   "source": [
    "## 4. 특성 변수 분포 분석"
   ]
  },
  {
   "cell_type": "code",
   "execution_count": null,
   "metadata": {},
   "outputs": [],
   "source": [
    "# 수치형 변수 분포 히스토그램\n",
    "numeric_columns = df.select_dtypes(include=[np.number]).columns.drop(['target'])\n",
    "n_cols = 2\n",
    "n_rows = (len(numeric_columns) + n_cols - 1) // n_cols\n",
    "\n",
    "fig, axes = plt.subplots(n_rows, n_cols, figsize=(15, 5*n_rows))\n",
    "axes = axes.flatten() if n_rows > 1 else [axes] if n_rows == 1 else axes\n",
    "\n",
    "for i, col in enumerate(numeric_columns):\n",
    "    if i < len(axes):\n",
    "        df[col].hist(bins=30, ax=axes[i], alpha=0.7, color='lightblue', edgecolor='black')\n",
    "        axes[i].set_title(f'{col} 분포')\n",
    "        axes[i].set_xlabel(col)\n",
    "        axes[i].set_ylabel('빈도')\n",
    "\n",
    "# 빈 subplot 제거\n",
    "for i in range(len(numeric_columns), len(axes)):\n",
    "    fig.delaxes(axes[i])\n",
    "\n",
    "plt.tight_layout()\n",
    "plt.show()"
   ]
  },
  {
   "cell_type": "code",
   "execution_count": null,
   "metadata": {},
   "outputs": [],
   "source": [
    "# 박스플롯으로 이상치 탐지\n",
    "fig, axes = plt.subplots(n_rows, n_cols, figsize=(15, 5*n_rows))\n",
    "axes = axes.flatten() if n_rows > 1 else [axes] if n_rows == 1 else axes\n",
    "\n",
    "for i, col in enumerate(numeric_columns):\n",
    "    if i < len(axes):\n",
    "        sns.boxplot(data=df, y=col, ax=axes[i])\n",
    "        axes[i].set_title(f'{col} 박스플롯')\n",
    "\n",
    "# 빈 subplot 제거\n",
    "for i in range(len(numeric_columns), len(axes)):\n",
    "    fig.delaxes(axes[i])\n",
    "\n",
    "plt.tight_layout()\n",
    "plt.show()"
   ]
  },
  {
   "cell_type": "markdown",
   "metadata": {},
   "source": [
    "## 5. 상관관계 분석"
   ]
  },
  {
   "cell_type": "code",
   "execution_count": null,
   "metadata": {},
   "outputs": [],
   "source": [
    "# 상관계수 행렬\n",
    "correlation_matrix = df[numeric_columns].corr()\n",
    "\n",
    "# 히트맵으로 시각화\n",
    "plt.figure(figsize=(12, 8))\n",
    "mask = np.triu(np.ones_like(correlation_matrix, dtype=bool))\n",
    "sns.heatmap(correlation_matrix, \n",
    "            mask=mask,\n",
    "            annot=True, \n",
    "            cmap='coolwarm', \n",
    "            center=0,\n",
    "            square=True,\n",
    "            fmt='.2f')\n",
    "plt.title('특성 간 상관관계 히트맵')\n",
    "plt.tight_layout()\n",
    "plt.show()\n",
    "\n",
    "# 높은 상관관계 쌍 찾기\n",
    "high_corr_pairs = []\n",
    "for i in range(len(correlation_matrix.columns)):\n",
    "    for j in range(i+1, len(correlation_matrix.columns)):\n",
    "        corr_value = correlation_matrix.iloc[i, j]\n",
    "        if abs(corr_value) > 0.7:  # 0.7 이상의 상관관계\n",
    "            high_corr_pairs.append((\n",
    "                correlation_matrix.columns[i],\n",
    "                correlation_matrix.columns[j],\n",
    "                corr_value\n",
    "            ))\n",
    "\n",
    "if high_corr_pairs:\n",
    "    print(\"\\n=== 높은 상관관계 (|r| > 0.7) ===\")\n",
    "    for var1, var2, corr in high_corr_pairs:\n",
    "        print(f\"{var1} ↔ {var2}: {corr:.3f}\")\n",
    "else:\n",
    "    print(\"\\n높은 상관관계를 가진 변수 쌍이 없습니다.\")"
   ]
  },
  {
   "cell_type": "markdown",
   "metadata": {},
   "source": [
    "## 6. 클래스별 특성 분석"
   ]
  },
  {
   "cell_type": "code",
   "execution_count": null,
   "metadata": {},
   "outputs": [],
   "source": [
    "# 클래스별 특성 분포 비교\n",
    "fig, axes = plt.subplots(n_rows, n_cols, figsize=(15, 5*n_rows))\n",
    "axes = axes.flatten() if n_rows > 1 else [axes] if n_rows == 1 else axes\n",
    "\n",
    "for i, col in enumerate(numeric_columns):\n",
    "    if i < len(axes):\n",
    "        sns.violinplot(data=df, x='target_name', y=col, ax=axes[i])\n",
    "        axes[i].set_title(f'{col} - 클래스별 분포')\n",
    "        axes[i].tick_params(axis='x', rotation=45)\n",
    "\n",
    "# 빈 subplot 제거\n",
    "for i in range(len(numeric_columns), len(axes)):\n",
    "    fig.delaxes(axes[i])\n",
    "\n",
    "plt.tight_layout()\n",
    "plt.show()"
   ]
  },
  {
   "cell_type": "code",
   "execution_count": null,
   "metadata": {},
   "outputs": [],
   "source": [
    "# 클래스별 통계 요약\n",
    "print(\"=== 클래스별 특성 통계 ===\")\n",
    "class_stats = df.groupby('target_name')[numeric_columns].agg(['mean', 'std'])\n",
    "display(class_stats.round(3))"
   ]
  },
  {
   "cell_type": "markdown",
   "metadata": {},
   "source": [
    "## 7. 인터랙티브 시각화"
   ]
  },
  {
   "cell_type": "code",
   "execution_count": null,
   "metadata": {},
   "outputs": [],
   "source": [
    "# Plotly를 사용한 인터랙티브 산점도 행렬\n",
    "feature_cols = numeric_columns[:4]  # 처음 4개 특성만 사용\n",
    "\n",
    "fig = px.scatter_matrix(\n",
    "    df, \n",
    "    dimensions=feature_cols,\n",
    "    color='target_name',\n",
    "    title='인터랙티브 산점도 행렬'\n",
    ")\n",
    "\n",
    "fig.update_layout(height=800)\n",
    "fig.show()"
   ]
  },
  {
   "cell_type": "code",
   "execution_count": null,
   "metadata": {},
   "outputs": [],
   "source": [
    "# 3D 산점도 (처음 3개 특성 사용)\n",
    "if len(numeric_columns) >= 3:\n",
    "    fig = px.scatter_3d(\n",
    "        df, \n",
    "        x=numeric_columns[0], \n",
    "        y=numeric_columns[1], \n",
    "        z=numeric_columns[2],\n",
    "        color='target_name',\n",
    "        title='3D 산점도',\n",
    "        hover_data=numeric_columns\n",
    "    )\n",
    "    \n",
    "    fig.update_layout(height=600)\n",
    "    fig.show()"
   ]
  },
  {
   "cell_type": "markdown",
   "metadata": {},
   "source": [
    "## 8. 주요 발견사항 요약"
   ]
  },
  {
   "cell_type": "code",
   "execution_count": null,
   "metadata": {},
   "outputs": [],
   "source": [
    "# 분석 결과 요약\n",
    "print(\"=== 탐색적 데이터 분석 요약 ===\")\n",
    "print(f\"📊 데이터 크기: {df.shape[0]:,}행 × {df.shape[1]}열\")\n",
    "print(f\"🎯 타겟 클래스: {df['target'].nunique()}개\")\n",
    "print(f\"📈 수치형 특성: {len(numeric_columns)}개\")\n",
    "print(f\"❌ 결측값: {df.isnull().sum().sum()}개\")\n",
    "print(f\"🔄 중복값: {duplicate_count}개\")\n",
    "\n",
    "# 클래스 불균형 확인\n",
    "class_balance = df['target_name'].value_counts()\n",
    "min_class_ratio = class_balance.min() / class_balance.max()\n",
    "print(f\"⚖️ 클래스 균형도: {min_class_ratio:.2f} (1.0에 가까울수록 균형)\")\n",
    "\n",
    "if min_class_ratio < 0.5:\n",
    "    print(\"   ⚠️ 클래스 불균형이 존재합니다. 리샘플링을 고려하세요.\")\n",
    "else:\n",
    "    print(\"   ✅ 클래스가 비교적 균형적입니다.\")\n",
    "\n",
    "print(\"\\n=== 다음 단계 권장사항 ===\")\n",
    "print(\"1. 데이터 전처리 (스케일링, 인코딩)\")\n",
    "print(\"2. 피처 엔지니어링\")\n",
    "print(\"3. 특성 선택\")\n",
    "print(\"4. 모델 훈련 및 평가\")"
   ]
  }
 ],
 "metadata": {
  "kernelspec": {
   "display_name": "Python 3",
   "language": "python",
   "name": "python3"
  },
  "language_info": {
   "codemirror_mode": {
    "name": "ipython",
    "version": 3
   },
   "file_extension": ".py",
   "mimetype": "text/x-python",
   "name": "python",
   "nbconvert_exporter": "python",
   "pygments_lexer": "ipython3",
   "version": "3.10.9"
  }
 },
 "nbformat": 4,
 "nbformat_minor": 4
}
